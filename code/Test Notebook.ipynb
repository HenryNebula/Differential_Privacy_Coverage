{
 "cells": [
  {
   "cell_type": "code",
   "execution_count": 1,
   "metadata": {},
   "outputs": [],
   "source": [
    "%matplotlib inline"
   ]
  },
  {
   "cell_type": "code",
   "execution_count": 1,
   "metadata": {},
   "outputs": [],
   "source": [
    "def easy_draw():\n",
    "    with open(\"simu.json\",'r') as f:\n",
    "        d = json.loads(f.read())\n",
    "    dataset_num = d['dataset_num']\n",
    "    method_num = d['method_num']\n",
    "    iter_per_set = d['iter_per_set']\n",
    "    dir_name = d['dir_name']\n",
    "    data_src = d['data_src']\n",
    "    marker = d['change_paras']\n",
    "    title = d['title']\n",
    "    \n",
    "#     marker = ['cand=30','cand=60','cand=90','cand=120']\n",
    "#     marker = ['k=10','k=20','k=30']\n",
    "#     marker = ['cand=40','cand=42','cand=44']\n",
    "\n",
    "\n",
    "    color = ['c','b','r','y','m','k']\n",
    "    Results = np.zeros((dataset_num, method_num, iter_per_set))\n",
    "    Stats = np.zeros((dataset_num, method_num, 2))#0 for mean, 1 for std\n",
    "\n",
    "    for i in range(0, dataset_num):\n",
    "        for j in range(0, iter_per_set):\n",
    "            with open(dir_name+ '/' + data_src + '_' +\n",
    "                      str(i) + '_' + str(j) + \".json\",'r') as f:\n",
    "                results = json.loads(f.read())\n",
    "                for m in range(0, method_num):\n",
    "                    Results[i,m,j] = results[m][0]\n",
    "                    \n",
    "    for i in range(0,dataset_num):\n",
    "        for m in range(0, method_num):\n",
    "            Stats[i,m,0] = np.mean(Results[i,m,:])\n",
    "            Stats[i,m,1] = np.std(Results[i,m,:])\n",
    "\n",
    "    print Stats[0,0,1]\n",
    "    ind = np.arange(dataset_num)\n",
    "    width = 0.2\n",
    "    p_list = []\n",
    "    for m in range(0, method_num):\n",
    "        if method_num % 2 != 0:\n",
    "            bias = np.floor(method_num/2)\n",
    "        else:\n",
    "            bias = (method_num - 1.0)/2\n",
    "        p = plt.bar(ind + width*(m-bias), Stats[:,m,0], width=width, color=color[m], yerr=Stats[:,m,1])\n",
    "        p_list.append(p)\n",
    "            \n",
    "    plt.xticks(ind, marker)\n",
    "    plt.ylim(500,650)\n",
    "    tup = tuple([p[0] for p in p_list])\n",
    "    plt.legend(tup,(\"Greedy\", \"Noisy\",\"Random\"))\n",
    "    plt.ylabel(\"Num of Covered Targets\")\n",
    "    plt.savefig(d['pic_name'])\n",
    "    plt.show()"
   ]
  },
  {
   "cell_type": "code",
   "execution_count": 2,
   "metadata": {},
   "outputs": [],
   "source": [
    "from matplotlib import pyplot as plt\n",
    "def truncated_geo(p, N):\n",
    "    x = np.arange(1,N+1)\n",
    "    y = (1-p)**(x-1) * p\n",
    "    y = y / np.sum(y)\n",
    "    return y"
   ]
  },
  {
   "cell_type": "code",
   "execution_count": 131,
   "metadata": {},
   "outputs": [
    {
     "name": "stdout",
     "output_type": "stream",
     "text": [
      "3671.0\n",
      "950\n"
     ]
    },
    {
     "data": {
      "image/png": "[encoded data removed]",
      "text/plain": [
       "<Figure size 432x288 with 2 Axes>"
      ]
     },
     "metadata": {},
     "output_type": "display_data"
    }
   ],
   "source": [
    "# N = 3000\n",
    "# y = truncated_geo(0.1,N)\n",
    "# print(y)\n",
    "from matplotlib import rcParams\n",
    "y = xi\n",
    "cdf = np.cumsum(y) / np.sum(y)\n",
    "L = y.shape[0]\n",
    "rcParams['font.size'] = 12\n",
    "new_pdf = np.zeros(L)\n",
    "level = np.ceil((L-1)*cdf + 0.5) - 1\n",
    "print(np.max(level))\n",
    "for i,l in enumerate(level):\n",
    "    new_pdf[int(l)] += y[i]\n",
    "plt.subplot(121)\n",
    "plt.plot(new_pdf)\n",
    "plt.plot(y)\n",
    "plt.legend(['pdf_histeq','pdf_original'])\n",
    "plt.subplot(122)\n",
    "plt.plot(np.cumsum(new_pdf)/ np.sum(new_pdf))\n",
    "plt.plot(np.cumsum(y)/ np.sum(y))\n",
    "\n",
    "plt.legend(['cdf_histeq','cdf_original'])\n",
    "plt.savefig('histeq_demo.png')\n",
    "print(len(np.where(new_pdf!=0)[0]))"
   ]
  },
  {
   "cell_type": "code",
   "execution_count": 108,
   "metadata": {
    "collapsed": true
   },
   "outputs": [
    {
     "data": {
      "text/plain": [
       "(array([  39,   72,  103,  131,  159,  186,  212,  238,  263,  288,  312,\n",
       "         333,  354,  375,  396,  417,  437,  456,  476,  495,  514,  532,\n",
       "         551,  570,  588,  606,  624,  642,  660,  677,  695,  712,  729,\n",
       "         745,  762,  778,  795,  811,  827,  843,  859,  875,  891,  906,\n",
       "         921,  936,  951,  966,  980,  995, 1009, 1023, 1037, 1051, 1065,\n",
       "        1078, 1092, 1106, 1119, 1132, 1145, 1158, 1172, 1185, 1197, 1210,\n",
       "        1223, 1235, 1248, 1260, 1272, 1284, 1296, 1308, 1320, 1332, 1343,\n",
       "        1355, 1366, 1378, 1389, 1400, 1411, 1422, 1433, 1443, 1454, 1464,\n",
       "        1475, 1485, 1496, 1506, 1516, 1527, 1537, 1547, 1557, 1567, 1577,\n",
       "        1587, 1596, 1606, 1616, 1625, 1635, 1644, 1653, 1663, 1672, 1682,\n",
       "        1691, 1700, 1709, 1718, 1727, 1736, 1745, 1754, 1763, 1771, 1780,\n",
       "        1789, 1797, 1806, 1814, 1823, 1831, 1839, 1848, 1856, 1864, 1872,\n",
       "        1881, 1889, 1897, 1904, 1912, 1920, 1928, 1935, 1943, 1950, 1958,\n",
       "        1965, 1972, 1979, 1986, 1993, 2000, 2007, 2014, 2021, 2029, 2036,\n",
       "        2043, 2049, 2056, 2063, 2070, 2077, 2084, 2091, 2097, 2104, 2111,\n",
       "        2117, 2124, 2131, 2137, 2144, 2150, 2157, 2163, 2170, 2176, 2182,\n",
       "        2189, 2195, 2201, 2207, 2214, 2220, 2226, 2232, 2238, 2244, 2250,\n",
       "        2256, 2262, 2268, 2273, 2279, 2285, 2291, 2297, 2302, 2308, 2314,\n",
       "        2319, 2325, 2330, 2336, 2341, 2347, 2353, 2358, 2364, 2369, 2375,\n",
       "        2380, 2385, 2391, 2396, 2401, 2407, 2412, 2417, 2422, 2428, 2433,\n",
       "        2438, 2443, 2448, 2453, 2458, 2463, 2468, 2473, 2478, 2483, 2488,\n",
       "        2493, 2498, 2503, 2508, 2512, 2517, 2522, 2527, 2531, 2536, 2541,\n",
       "        2545, 2550, 2554, 2559, 2564, 2568, 2573, 2577, 2581, 2586, 2590,\n",
       "        2594, 2599, 2603, 2607, 2611, 2615, 2619, 2623, 2627, 2631, 2635,\n",
       "        2639, 2642, 2646, 2650, 2654, 2657, 2661, 2665, 2669, 2672, 2676,\n",
       "        2679, 2683, 2687, 2690, 2694, 2697, 2701, 2704, 2708, 2712, 2715,\n",
       "        2718, 2722, 2725, 2729, 2732, 2736, 2739, 2742, 2746, 2749, 2752,\n",
       "        2756, 2759, 2762, 2765, 2769, 2772, 2775, 2778, 2781, 2785, 2788,\n",
       "        2791, 2794, 2797, 2800, 2803, 2806, 2809, 2812, 2816, 2819, 2822,\n",
       "        2825, 2828, 2831, 2834, 2837, 2840, 2842, 2845, 2848, 2851, 2854,\n",
       "        2857, 2860, 2862, 2865, 2868, 2871, 2874, 2876, 2879, 2882, 2885,\n",
       "        2887, 2890, 2893, 2896, 2898, 2901, 2903, 2906, 2909, 2911, 2914,\n",
       "        2916, 2919, 2921, 2924, 2926, 2929, 2931, 2934, 2936, 2939, 2941,\n",
       "        2944, 2946, 2948, 2951, 2953, 2956, 2958, 2960, 2963, 2965, 2967,\n",
       "        2970, 2972, 2974, 2977, 2979, 2981, 2983, 2986, 2988, 2990, 2992,\n",
       "        2994, 2996, 2999, 3001, 3003, 3005, 3007, 3009, 3011, 3014, 3016,\n",
       "        3018, 3020, 3022, 3024, 3026, 3028, 3030, 3032, 3034, 3036, 3038,\n",
       "        3040, 3042, 3044, 3046, 3048, 3050, 3052, 3053, 3055, 3057, 3059,\n",
       "        3061, 3063, 3065, 3067, 3069, 3071, 3072, 3074, 3076, 3078, 3080,\n",
       "        3082, 3084, 3086, 3087, 3089, 3091, 3093, 3094, 3096, 3098, 3100,\n",
       "        3102, 3103, 3105, 3107, 3109, 3111, 3112, 3114, 3116, 3118, 3119,\n",
       "        3121, 3123, 3124, 3126, 3128, 3129, 3131, 3133, 3134, 3136, 3138,\n",
       "        3139, 3141, 3143, 3144, 3146, 3148, 3149, 3151, 3153, 3154, 3156,\n",
       "        3158, 3159, 3161, 3162, 3164, 3165, 3167, 3169, 3170, 3172, 3173,\n",
       "        3175, 3176, 3178, 3179, 3181, 3182, 3184, 3186, 3187, 3189, 3190,\n",
       "        3192, 3193, 3195, 3196, 3197, 3199, 3200, 3202, 3203, 3205, 3206,\n",
       "        3207, 3209, 3210, 3212, 3213, 3215, 3216, 3217, 3219, 3220, 3221,\n",
       "        3223, 3224, 3225, 3226, 3228, 3229, 3230, 3232, 3233, 3234, 3236,\n",
       "        3237, 3238, 3240, 3241, 3242, 3243, 3245, 3246, 3247, 3249, 3250,\n",
       "        3251, 3253, 3254, 3255, 3256, 3257, 3259, 3260, 3261, 3262, 3263,\n",
       "        3265, 3266, 3267, 3268, 3269, 3270, 3272, 3273, 3274, 3275, 3276,\n",
       "        3278, 3279, 3280, 3281, 3282, 3284, 3285, 3286, 3287, 3288, 3290,\n",
       "        3291, 3292, 3293, 3294, 3295, 3297, 3298, 3299, 3300, 3301, 3302,\n",
       "        3303, 3304, 3305, 3306, 3307, 3308, 3309, 3311, 3312, 3313, 3314,\n",
       "        3315, 3316, 3317, 3318, 3319, 3320, 3321, 3322, 3323, 3324, 3326,\n",
       "        3327, 3328, 3329, 3330, 3331, 3332, 3333, 3334, 3335, 3336, 3337,\n",
       "        3338, 3339, 3340, 3341, 3342, 3343, 3344, 3345, 3346, 3347, 3348,\n",
       "        3349, 3350, 3351, 3352, 3353, 3354, 3355, 3356, 3357, 3358, 3359,\n",
       "        3360, 3361, 3362, 3363, 3364, 3365, 3366, 3367, 3368, 3369, 3370,\n",
       "        3371, 3372, 3373, 3374, 3375, 3376, 3377, 3378, 3379, 3380, 3381,\n",
       "        3382, 3383, 3384, 3385, 3386, 3387, 3388, 3389, 3390, 3391, 3392,\n",
       "        3393, 3394, 3395, 3396, 3397, 3398, 3399, 3400, 3401, 3402, 3403,\n",
       "        3404, 3405, 3406, 3407, 3408, 3409, 3410, 3411, 3412, 3413, 3414,\n",
       "        3415, 3416, 3417, 3418, 3419, 3420, 3421, 3422, 3423, 3424, 3425,\n",
       "        3426, 3427, 3428, 3429, 3430, 3431, 3432, 3433, 3434, 3435, 3436,\n",
       "        3437, 3438, 3439, 3440, 3441, 3442, 3443, 3444, 3445, 3446, 3447,\n",
       "        3448, 3449, 3450, 3451, 3452, 3453, 3454, 3455, 3456, 3457, 3458,\n",
       "        3459, 3460, 3461, 3462, 3463, 3464, 3465, 3466, 3467, 3468, 3469,\n",
       "        3470, 3471, 3472, 3473, 3474, 3475, 3476, 3477, 3478, 3479, 3480,\n",
       "        3481, 3482, 3483, 3484, 3485, 3486, 3487, 3488, 3489, 3490, 3491,\n",
       "        3492, 3493, 3494, 3495, 3496, 3497, 3498, 3499, 3500, 3501, 3502,\n",
       "        3503, 3504, 3505, 3506, 3507, 3508, 3509, 3510, 3511, 3512, 3513,\n",
       "        3514, 3515, 3516, 3517, 3518, 3519, 3520, 3521, 3522, 3523, 3524,\n",
       "        3525, 3526, 3527, 3528, 3529, 3530, 3531, 3532, 3533, 3534, 3535,\n",
       "        3536, 3537, 3538, 3539, 3540, 3541, 3542, 3543, 3544, 3545, 3546,\n",
       "        3547, 3548, 3549, 3550, 3551, 3552, 3553, 3554, 3555, 3556, 3557,\n",
       "        3558, 3559, 3560, 3561, 3562, 3563, 3564, 3565, 3566, 3567, 3568,\n",
       "        3569, 3570, 3571, 3572, 3573, 3574, 3575, 3576, 3577, 3578, 3579,\n",
       "        3580, 3581, 3582, 3583, 3584, 3585, 3586, 3587, 3588, 3589, 3590,\n",
       "        3591, 3592, 3593, 3594, 3595, 3596, 3597, 3598, 3599, 3600, 3601,\n",
       "        3602, 3603, 3604, 3605, 3606, 3607, 3608, 3609, 3610, 3611, 3612,\n",
       "        3613, 3614, 3615, 3616, 3617, 3618, 3619, 3620, 3621, 3622, 3623,\n",
       "        3624, 3625, 3626, 3627, 3628, 3629, 3630, 3631, 3632, 3633, 3634,\n",
       "        3635, 3636, 3637, 3638, 3639, 3640, 3641, 3642, 3643, 3644, 3645,\n",
       "        3646, 3647, 3648, 3649, 3650, 3651, 3652, 3653, 3654, 3655, 3656,\n",
       "        3657, 3658, 3659, 3660, 3661, 3662, 3663, 3664, 3665, 3666, 3667,\n",
       "        3668, 3669, 3670, 3671]),)"
      ]
     },
     "execution_count": 108,
     "metadata": {},
     "output_type": "execute_result"
    }
   ],
   "source": [
    "np.where(new_pdf!=0)"
   ]
  },
  {
   "cell_type": "code",
   "execution_count": 68,
   "metadata": {},
   "outputs": [
    {
     "data": {
      "text/plain": [
       "(0.0013616557734204794, 0.05312601230968578, 0.0)"
      ]
     },
     "execution_count": 68,
     "metadata": {},
     "output_type": "execute_result"
    }
   ],
   "source": [
    "np.mean(xi), np.max(xi), np.min(xi)"
   ]
  },
  {
   "cell_type": "code",
   "execution_count": 1,
   "metadata": {},
   "outputs": [
    {
     "data": {
      "text/plain": [
       "u'/home/HenryHuang/DataMining/DP/Differential_Privacy_Coverage/code'"
      ]
     },
     "execution_count": 1,
     "metadata": {},
     "output_type": "execute_result"
    }
   ],
   "source": [
    "pwd"
   ]
  },
  {
   "cell_type": "code",
   "execution_count": 2,
   "metadata": {},
   "outputs": [
    {
     "name": "stdout",
     "output_type": "stream",
     "text": [
      "Test Notebook.ipynb  read_data.py         test.py\r\n",
      "diff_coverage.py     read_data.pyc        util.py\r\n",
      "optim_coverage.py    simulate.py          xi.npy\r\n",
      "optim_coverage.pyc   \u001b[1m\u001b[36mtest\u001b[m\u001b[m/\r\n"
     ]
    }
   ],
   "source": [
    "ls"
   ]
  },
  {
   "cell_type": "code",
   "execution_count": 5,
   "metadata": {},
   "outputs": [],
   "source": [
    "eps=4\n",
    "constraint = 150\n",
    "data_src = 'SG'\n",
    "candidate = 40\n",
    "k_favor = 5\n",
    "p = 0.02\n",
    "q = 1.0 / ((1.0 - p) / (p * np.exp(eps)) + 1)\n",
    "new_simulation = Diff_Coverage(flip_p=p, flip_q=q, data_src=data_src,\n",
    "                                   target_constraint=constraint, candidate_num=candidate,\n",
    "                                   k_favor=k_favor, hist=False, random_start=1)"
   ]
  },
  {
   "cell_type": "code",
   "execution_count": 6,
   "metadata": {},
   "outputs": [
    {
     "name": "stdout",
     "output_type": "stream",
     "text": [
      "6064\n",
      "2018-09-21 22:06:43.091723 Finish Constructing Sparse Matrix, shape (6064, 147), nonzeros 30320\n",
      "Data source:SG, p:0.02, people:6064, candidate:40, target: 147, k_favor:5\n",
      "mean of prior:0.034014, sum:5.00, std:0.04254\n",
      "(6064, 147)\n",
      "Finish Iter_0\n"
     ]
    }
   ],
   "source": [
    "choice = new_simulation.train(optimizer='ada_prior')\n",
    "    "
   ]
  },
  {
   "cell_type": "code",
   "execution_count": 7,
   "metadata": {
    "collapsed": true
   },
   "outputs": [
    {
     "name": "stdout",
     "output_type": "stream",
     "text": [
      "0 0.0\n",
      "0 0.0\n",
      "0 0.0\n",
      "0 0.0\n",
      "0 1.1102230246251565e-16\n",
      "0 0.0\n",
      "0 0.0\n",
      "0 -2.220446049250313e-16\n",
      "0 2.220446049250313e-16\n",
      "0 2.220446049250313e-16\n",
      "0 0.0\n",
      "0 -2.220446049250313e-16\n",
      "0 -2.220446049250313e-16\n",
      "0 0.0\n",
      "0 -2.220446049250313e-16\n",
      "0 0.0\n",
      "0 1.1102230246251565e-16\n",
      "0 0.0\n",
      "0 0.0\n",
      "0 0.0\n",
      "0.0 0.0\n",
      "0.0003252497203618381 0.16661347141093974\n",
      "0.0006504994407236762 0.316006943809927\n",
      "0.0009757491610855144 0.4470422409014314\n",
      "0.0013009988814473524 0.5596054193033515\n",
      "0.0016262486018091906 0.6543991022231936\n",
      "0.0019514983221710289 0.7327225796815653\n",
      "0.0022767480425328673 0.7962609154458311\n",
      "0.002601997762894705 0.8468983642709769\n",
      "0.0029272474832565433 0.8865652663326299\n",
      "0.0032524972036183813 0.9171220457624386\n",
      "0.0035777469239802197 0.94027950228307\n",
      "0.0039029966443420577 0.9575514696021837\n",
      "0.004228246364703895 0.970234106595977\n",
      "0.004553496085065735 0.9794054085223176\n",
      "0.004878745805427572 0.9859387075487566\n",
      "0.00520399552578941 0.9905246826412129\n",
      "0.005529245246151248 0.9936974498634539\n",
      "0.005854494966513087 0.9958614390935087\n",
      "0.006179744686874924 0.9973168292129969\n",
      "0.006504994407236763 0.9982822197292982\n",
      "0.0068302441275986 nan\n",
      "0.0071554938479604395 nan\n",
      "0.007480743568322277 nan\n",
      "0.0078059932886841155 nan\n",
      "0.008131243009045953 nan\n",
      "0.00845649272940779 nan\n",
      "0.00878174244976963 nan\n",
      "0.00910699217013147 nan\n",
      "0.009432241890493307 nan\n",
      "0.009757491610855144 nan\n",
      "0.010082741331216982 nan\n",
      "0.01040799105157882 nan\n",
      "0.010733240771940659 nan\n",
      "0.011058490492302496 nan\n",
      "0.011383740212664334 nan\n",
      "0.011708989933026173 nan\n",
      "0.012034239653388012 nan\n",
      "0.012359489373749848 nan\n",
      "0.012684739094111688 nan\n",
      "0.013009988814473525 nan\n",
      "0.013335238534835364 nan\n",
      "0.0136604882551972 nan\n",
      "0.01398573797555904 nan\n",
      "0.014310987695920879 nan\n",
      "0.014636237416282716 nan\n",
      "0.014961487136644554 nan\n",
      "0.015286736857006392 nan\n",
      "0.015611986577368231 nan\n",
      "0.01593723629773007 nan\n",
      "0.016262486018091906 nan\n",
      "0.016587735738453745 nan\n",
      "0.01691298545881558 nan\n",
      "0.01723823517917742 nan\n",
      "0.01756348489953926 nan\n",
      "0.0178887346199011 nan\n",
      "0.01821398434026294 nan\n",
      "0.018539234060624774 nan\n",
      "0.018864483780986614 nan\n",
      "0.01918973350134845 nan\n",
      "0.01951498322171029 nan\n",
      "0.019840232942072128 nan\n",
      "0.020165482662433964 nan\n",
      "0.020490732382795803 nan\n",
      "0.02081598210315764 nan\n",
      "0.021141231823519478 nan\n",
      "0.021466481543881318 nan\n",
      "0.021791731264243157 nan\n",
      "0.022116980984604993 nan\n",
      "0.022442230704966832 nan\n",
      "0.022767480425328668 nan\n",
      "0.023092730145690507 nan\n",
      "0.023417979866052346 nan\n",
      "0.023743229586414186 nan\n",
      "0.024068479306776025 nan\n",
      "0.024393729027137857 nan\n",
      "0.024718978747499697 nan\n",
      "0.025044228467861536 nan\n",
      "0.025369478188223375 nan\n",
      "0.025694727908585215 nan\n",
      "0.02601997762894705 nan\n",
      "0.02634522734930889 nan\n",
      "0.02667047706967073 nan\n",
      "0.02699572679003257 nan\n",
      "0.0273209765103944 nan\n",
      "0.02764622623075624 nan\n",
      "0.02797147595111808 nan\n",
      "0.02829672567147992 nan\n",
      "0.028621975391841758 nan\n",
      "0.028947225112203594 nan\n",
      "0.029272474832565433 nan\n",
      "0.029597724552927272 nan\n",
      "0.029922974273289108 nan\n",
      "0.030248223993650947 nan\n",
      "0.030573473714012783 nan\n",
      "0.030898723434374623 nan\n",
      "0.031223973154736462 nan\n",
      "0.0315492228750983 nan\n",
      "0.03187447259546014 nan\n",
      "0.03219972231582197 nan\n",
      "0.03252497203618381 nan\n",
      "0.03285022175654565 nan\n",
      "0.03317547147690749 nan\n",
      "0.03350072119726933 nan\n",
      "0.03382597091763116 nan\n",
      "0.034151220637993 nan\n",
      "0.03447647035835484 nan\n",
      "0.03480172007871668 nan\n",
      "0.03512696979907852 nan\n",
      "0.03545221951944036 nan\n",
      "0.0357774692398022 "
     ]
    },
    {
     "name": "stderr",
     "output_type": "stream",
     "text": [
      "optim_coverage.py:124: RuntimeWarning: invalid value encountered in double_scalars\n",
      "  ratio = numerator / sum_\n"
     ]
    },
    {
     "name": "stdout",
     "output_type": "stream",
     "text": [
      "nan\n",
      "0.03610271896016404 nan\n",
      "0.03642796868052588 nan\n",
      "0.03675321840088771 nan\n",
      "0.03707846812124955 nan\n",
      "0.03740371784161139 nan\n",
      "0.03772896756197323 nan\n",
      "0.038054217282335066 nan\n",
      "0.0383794670026969 nan\n",
      "0.03870471672305874 nan\n",
      "0.03902996644342058 nan\n",
      "0.03935521616378242 nan\n",
      "0.039680465884144256 nan\n",
      "0.04000571560450609 nan\n",
      "0.04033096532486793 nan\n",
      "0.04065621504522977 nan\n",
      "0.040981464765591606 nan\n",
      "0.041306714485953445 nan\n",
      "0.04163196420631528 nan\n",
      "0.04195721392667712 nan\n",
      "0.042282463647038956 nan\n",
      "0.042607713367400796 nan\n",
      "0.042932963087762635 nan\n",
      "0.043258212808124474 nan\n",
      "0.043583462528486314 nan\n",
      "0.043908712248848146 nan\n",
      "0.044233961969209985 nan\n",
      "0.044559211689571825 nan\n",
      "0.044884461409933664 nan\n",
      "0.0452097111302955 nan\n",
      "0.045534960850657336 nan\n",
      "0.04586021057101918 nan\n",
      "0.046185460291381014 nan\n",
      "0.04651071001174286 nan\n",
      "0.04683595973210469 nan\n",
      "0.047161209452466525 nan\n",
      "0.04748645917282837 nan\n",
      "0.047811708893190204 nan\n",
      "0.04813695861355205 nan\n",
      "0.04846220833391388 nan\n",
      "0.048787458054275715 nan\n",
      "0.04911270777463756 nan\n",
      "0.04943795749499939 nan\n",
      "0.04976320721536124 nan\n",
      "0.05008845693572307 nan\n",
      "0.05041370665608491 nan\n",
      "0.05073895637644675 nan\n",
      "0.05106420609680859 nan\n",
      "0.05138945581717043 nan\n",
      "0.05171470553753227 nan\n",
      "0.0520399552578941 nan\n",
      "0.05236520497825594 nan\n",
      "0.05269045469861778 nan\n",
      "0.05301570441897961 nan\n",
      "0.05334095413934146 nan\n",
      "0.05366620385970329 nan\n",
      "0.05399145358006514 nan\n",
      "0.05431670330042697 nan\n",
      "0.0546419530207888 nan\n",
      "0.05496720274115065 nan\n",
      "0.05529245246151248 nan\n",
      "0.055617702181874326 nan\n",
      "0.05594295190223616 nan\n",
      "0.05626820162259799 nan\n",
      "0.05659345134295984 nan\n",
      "0.05691870106332167 nan\n",
      "0.057243950783683516 nan\n",
      "0.05756920050404535 nan\n",
      "0.05789445022440719 nan\n",
      "0.05821969994476903 nan\n"
     ]
    },
    {
     "data": {
      "text/plain": [
       "[<matplotlib.lines.Line2D at 0x1a0e289b50>]"
      ]
     },
     "execution_count": 7,
     "metadata": {},
     "output_type": "execute_result"
    },
    {
     "data": {
      "image/png": "[encoded data removed]",
      "text/plain": [
       "<Figure size 432x288 with 1 Axes>"
      ]
     },
     "metadata": {},
     "output_type": "display_data"
    }
   ],
   "source": [
    "y = []\n",
    "self = new_simulation\n",
    "N = 200\n",
    "for x in range(0,N):\n",
    "    xi = x - (self.p + 0.5 * self.f * (self.q - self.p)) * 1000\n",
    "    xi /= (1 - self.f) * (self.q - self.p)\n",
    "    xi /= self.people\n",
    "    if xi<0: \n",
    "        xi = 0 \n",
    "    y.append(new_simulation.posterior_core(x, xi))\n",
    "    print xi, 1 - new_simulation.posterior_core(x, xi)\n",
    "\n",
    "plt.ylabel(\"Posterior: P(0|X)\")\n",
    "plt.xlabel(\"X\")\n",
    "plt.plot(range(0,N),y)\n",
    "    "
   ]
  },
  {
   "cell_type": "code",
   "execution_count": null,
   "metadata": {},
   "outputs": [],
   "source": [
    "def cal_prior(sum_, N):\n",
    "    xi = sum_ - (self.p + 0.5 * self.f * (self.q - self.p)) * N\n",
    "    xi /= (1 - self.f) * (self.q - self.p)\n",
    "    xi /= N\n",
    "    xi[xi<0] = 0\n",
    "    return xi\n",
    "\n",
    "def cal_posterior(row_):\n",
    "    prior = cal_prior(row_)\n",
    "    post_sum = 0\n",
    "    for i, pri in enumerate(prior):\n",
    "        post_sum += self.posterior_core(row_[i], pri)\n",
    "    return post_sum"
   ]
  },
  {
   "cell_type": "code",
   "execution_count": 2,
   "metadata": {},
   "outputs": [],
   "source": [
    "from matplotlib import pyplot as plt\n",
    "import numpy as np"
   ]
  },
  {
   "cell_type": "code",
   "execution_count": 41,
   "metadata": {},
   "outputs": [],
   "source": [
    "best_choice = np.load(\"best_choice.npy\")\n",
    "best_choice = np.array(best_choice, dtype=np.float64)\n",
    "best_choice /= 600.0\n",
    "crowd_choice = np.load(\"crowd_choice.npy\")\n",
    "random_choice = np.load(\"random_choice.npy\")\n",
    "\n",
    "our_choice = np.load('our_choice.npy')"
   ]
  },
  {
   "cell_type": "code",
   "execution_count": 4,
   "metadata": {},
   "outputs": [],
   "source": [
    "from collections import defaultdict\n",
    "def word_count(arr):\n",
    "    d = defaultdict(int)\n",
    "    for a in arr:\n",
    "        d[a] += 1\n",
    "    items = sorted(d.items(), key=lambda x: x[0])\n",
    "    return items\n",
    "    \n",
    "        "
   ]
  },
  {
   "cell_type": "code",
   "execution_count": 5,
   "metadata": {},
   "outputs": [],
   "source": [
    "def plot_items(items, ax):\n",
    "    x,y = zip(*items)\n",
    "    ax.plot(x,y)"
   ]
  },
  {
   "cell_type": "code",
   "execution_count": 46,
   "metadata": {},
   "outputs": [
    {
     "data": {
      "image/png": "[encoded data removed]",
      "text/plain": [
       "<Figure size 720x576 with 1 Axes>"
      ]
     },
     "metadata": {},
     "output_type": "display_data"
    }
   ],
   "source": [
    "def plot_prior(prior_list):\n",
    "    color = ['b', 'y', 'r', 'g']\n",
    "    color = color[:len(prior_list)]\n",
    "    plt.figure(figsize=(10,8))\n",
    "    plt.xlim((0,0.02))\n",
    "    plt.xlabel('visit probability')\n",
    "    plt.ylabel('#targets')\n",
    "    for p,c in zip(prior_list, color):\n",
    "        plt.hist(p, histtype='step', bins= len(p), align='mid')\n",
    "#     plt.legend(['random', 'best','crowd'])\n",
    "    plt.legend(['our', 'best'])\n",
    "    plt.title('#candidate=600, #targets=609, eps=4')\n",
    "# prior_list = [best_choice, random_choice]\n",
    "# # prior_list = [(random_choice - crowd_choice) * 600]\n",
    "# plot_prior(prior_list)\n",
    "\n",
    "prior_list = [our_choice, best_choice]\n",
    "# prior_list = [(random_choice - crowd_choice) * 600]\n",
    "plot_prior(prior_list)"
   ]
  },
  {
   "cell_type": "code",
   "execution_count": 6,
   "metadata": {},
   "outputs": [
    {
     "ename": "TypeError",
     "evalue": "plot_items() takes exactly 2 arguments (1 given)",
     "output_type": "error",
     "traceback": [
      "\u001b[0;31m---------------------------------------------------------------------------\u001b[0m",
      "\u001b[0;31mTypeError\u001b[0m                                 Traceback (most recent call last)",
      "\u001b[0;32m<ipython-input-6-e47bc6483b78>\u001b[0m in \u001b[0;36m<module>\u001b[0;34m()\u001b[0m\n\u001b[1;32m      3\u001b[0m \u001b[0;34m\u001b[0m\u001b[0m\n\u001b[1;32m      4\u001b[0m \u001b[0max\u001b[0m \u001b[0;34m=\u001b[0m \u001b[0mplt\u001b[0m\u001b[0;34m.\u001b[0m\u001b[0mfigure\u001b[0m\u001b[0;34m(\u001b[0m\u001b[0;34m)\u001b[0m\u001b[0;34m\u001b[0m\u001b[0m\n\u001b[0;32m----> 5\u001b[0;31m \u001b[0mplot_items\u001b[0m\u001b[0;34m(\u001b[0m\u001b[0mbest_items\u001b[0m\u001b[0;34m)\u001b[0m\u001b[0;34m\u001b[0m\u001b[0m\n\u001b[0m\u001b[1;32m      6\u001b[0m \u001b[0mplot_items\u001b[0m\u001b[0;34m(\u001b[0m\u001b[0mcrowd_items\u001b[0m\u001b[0;34m)\u001b[0m\u001b[0;34m\u001b[0m\u001b[0m\n\u001b[1;32m      7\u001b[0m \u001b[0max\u001b[0m\u001b[0;34m.\u001b[0m\u001b[0mlegend\u001b[0m\u001b[0;34m(\u001b[0m\u001b[0;34m[\u001b[0m\u001b[0;34m'best'\u001b[0m\u001b[0;34m,\u001b[0m \u001b[0;34m'pool'\u001b[0m\u001b[0;34m]\u001b[0m\u001b[0;34m)\u001b[0m\u001b[0;34m\u001b[0m\u001b[0m\n",
      "\u001b[0;31mTypeError\u001b[0m: plot_items() takes exactly 2 arguments (1 given)"
     ]
    },
    {
     "data": {
      "text/plain": [
       "<Figure size 432x288 with 0 Axes>"
      ]
     },
     "metadata": {},
     "output_type": "display_data"
    }
   ],
   "source": [
    "best_items = word_count(best_choice)\n",
    "crowd_items = word_count(crowd_choice)\n",
    "\n",
    "ax = plt.figure()\n",
    "plot_items(best_items)\n",
    "plot_items(crowd_items)\n",
    "ax.legend(['best', 'pool'])"
   ]
  },
  {
   "cell_type": "code",
   "execution_count": 35,
   "metadata": {},
   "outputs": [],
   "source": [
    "def cal_stats(items):\n",
    "    x,y = zip(*items)\n",
    "    print np.min(x), np.mean(x), np.max(x)"
   ]
  },
  {
   "cell_type": "code",
   "execution_count": 37,
   "metadata": {},
   "outputs": [
    {
     "name": "stdout",
     "output_type": "stream",
     "text": [
      "0.0 0.03271713147410358 0.22270916334661356\n",
      "0.0 0.05213333333333333 0.19833333333333333\n"
     ]
    }
   ],
   "source": [
    "cal_stats(crowd_items)\n",
    "cal_stats(best_items)"
   ]
  },
  {
   "cell_type": "code",
   "execution_count": 72,
   "metadata": {},
   "outputs": [
    {
     "data": {
      "text/plain": [
       "268"
      ]
     },
     "execution_count": 72,
     "metadata": {},
     "output_type": "execute_result"
    }
   ],
   "source": [
    "np.sum((random_choice - crowd_choice)*600 < 0)"
   ]
  },
  {
   "cell_type": "code",
   "execution_count": 70,
   "metadata": {},
   "outputs": [
    {
     "data": {
      "text/plain": [
       "91"
      ]
     },
     "execution_count": 70,
     "metadata": {},
     "output_type": "execute_result"
    }
   ],
   "source": [
    "np.sum((best_choice - random_choice) * 600 < 0)"
   ]
  },
  {
   "cell_type": "code",
   "execution_count": 65,
   "metadata": {},
   "outputs": [
    {
     "data": {
      "text/plain": [
       "4.926108374384237"
      ]
     },
     "execution_count": 65,
     "metadata": {},
     "output_type": "execute_result"
    }
   ],
   "source": [
    "np.mean(random_choice * 600)"
   ]
  },
  {
   "cell_type": "code",
   "execution_count": null,
   "metadata": {},
   "outputs": [],
   "source": []
  }
 ],
 "metadata": {
  "kernelspec": {
   "display_name": "conda_py27",
   "language": "python",
   "name": "anaconda_py2"
  },
  "language_info": {
   "codemirror_mode": {
    "name": "ipython",
    "version": 2
   },
   "file_extension": ".py",
   "mimetype": "text/x-python",
   "name": "python",
   "nbconvert_exporter": "python",
   "pygments_lexer": "ipython2",
   "version": "2.7.15"
  }
 },
 "nbformat": 4,
 "nbformat_minor": 2
}
