{
 "cells": [
  {
   "cell_type": "code",
   "execution_count": 8,
   "metadata": {},
   "outputs": [],
   "source": [
    "%matplotlib inline"
   ]
  },
  {
   "cell_type": "code",
   "execution_count": 1,
   "metadata": {},
   "outputs": [],
   "source": [
    "def easy_draw():\n",
    "    with open(\"simu.json\",'r') as f:\n",
    "        d = json.loads(f.read())\n",
    "    dataset_num = d['dataset_num']\n",
    "    method_num = d['method_num']\n",
    "    iter_per_set = d['iter_per_set']\n",
    "    dir_name = d['dir_name']\n",
    "    data_src = d['data_src']\n",
    "    marker = d['change_paras']\n",
    "    title = d['title']\n",
    "    \n",
    "#     marker = ['cand=30','cand=60','cand=90','cand=120']\n",
    "#     marker = ['k=10','k=20','k=30']\n",
    "#     marker = ['cand=40','cand=42','cand=44']\n",
    "\n",
    "\n",
    "    color = ['c','b','r','y','m','k']\n",
    "    Results = np.zeros((dataset_num, method_num, iter_per_set))\n",
    "    Stats = np.zeros((dataset_num, method_num, 2))#0 for mean, 1 for std\n",
    "\n",
    "    for i in range(0, dataset_num):\n",
    "        for j in range(0, iter_per_set):\n",
    "            with open(dir_name+ '/' + data_src + '_' +\n",
    "                      str(i) + '_' + str(j) + \".json\",'r') as f:\n",
    "                results = json.loads(f.read())\n",
    "                for m in range(0, method_num):\n",
    "                    Results[i,m,j] = results[m][0]\n",
    "                    \n",
    "    for i in range(0,dataset_num):\n",
    "        for m in range(0, method_num):\n",
    "            Stats[i,m,0] = np.mean(Results[i,m,:])\n",
    "            Stats[i,m,1] = np.std(Results[i,m,:])\n",
    "\n",
    "    print Stats[0,0,1]\n",
    "    ind = np.arange(dataset_num)\n",
    "    width = 0.2\n",
    "    p_list = []\n",
    "    for m in range(0, method_num):\n",
    "        if method_num % 2 != 0:\n",
    "            bias = np.floor(method_num/2)\n",
    "        else:\n",
    "            bias = (method_num - 1.0)/2\n",
    "        p = plt.bar(ind + width*(m-bias), Stats[:,m,0], width=width, color=color[m], yerr=Stats[:,m,1])\n",
    "        p_list.append(p)\n",
    "            \n",
    "    plt.xticks(ind, marker)\n",
    "    plt.ylim(500,650)\n",
    "    tup = tuple([p[0] for p in p_list])\n",
    "    plt.legend(tup,(\"Greedy\", \"Noisy\",\"Random\"))\n",
    "    plt.ylabel(\"Num of Covered Targets\")\n",
    "    plt.savefig(d['pic_name'])\n",
    "    plt.show()"
   ]
  },
  {
   "cell_type": "code",
   "execution_count": 47,
   "metadata": {},
   "outputs": [
    {
     "name": "stdout",
     "output_type": "stream",
     "text": [
      "64\n"
     ]
    },
    {
     "data": {
      "image/png": "[encoded data removed]",
      "text/plain": [
       "<Figure size 432x288 with 1 Axes>"
      ]
     },
     "metadata": {},
     "output_type": "display_data"
    }
   ],
   "source": [
    "from matplotlib import pyplot as plt\n",
    "def truncated_geo(p, N):\n",
    "    x = np.arange(1,N+1)\n",
    "    y = (1-p)**(x-1) * p\n",
    "    y = y / np.sum(y)\n",
    "    return y\n",
    "\n",
    "N = 3000\n",
    "y = truncated_geo(0.1,N)\n",
    "cdf = np.cumsum(y) / np.sum(y)\n",
    "remap = np.round(cdf * (N-1) + 1)\n",
    "new_pdf = np.zeros((N,1))\n",
    "for n, index in enumerate(remap):\n",
    "    new_pdf[int(index)-1] = y[n]\n",
    "plt.plot(y)\n",
    "plt.plot(np.cumsum(y))\n",
    "plt.plot(new_pdf)\n",
    "plt.plot(np.cumsum(new_pdf))\n",
    "print(len(np.where(new_pdf!=0)[0]))"
   ]
  },
  {
   "cell_type": "code",
   "execution_count": null,
   "metadata": {},
   "outputs": [],
   "source": []
  }
 ],
 "metadata": {
  "kernelspec": {
   "display_name": "conda_py27",
   "language": "python",
   "name": "anaconda_py2"
  },
  "language_info": {
   "codemirror_mode": {
    "name": "ipython",
    "version": 2
   },
   "file_extension": ".py",
   "mimetype": "text/x-python",
   "name": "python",
   "nbconvert_exporter": "python",
   "pygments_lexer": "ipython2",
   "version": "2.7.15"
  }
 },
 "nbformat": 4,
 "nbformat_minor": 2
}
