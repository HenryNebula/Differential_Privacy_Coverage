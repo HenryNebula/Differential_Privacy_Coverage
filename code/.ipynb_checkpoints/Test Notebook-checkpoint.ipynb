{
 "cells": [
  {
   "cell_type": "code",
   "execution_count": 8,
   "metadata": {},
   "outputs": [],
   "source": [
    "%matplotlib inline"
   ]
  },
  {
   "cell_type": "code",
   "execution_count": 1,
   "metadata": {},
   "outputs": [],
   "source": [
    "def easy_draw():\n",
    "    with open(\"simu.json\",'r') as f:\n",
    "        d = json.loads(f.read())\n",
    "    dataset_num = d['dataset_num']\n",
    "    method_num = d['method_num']\n",
    "    iter_per_set = d['iter_per_set']\n",
    "    dir_name = d['dir_name']\n",
    "    data_src = d['data_src']\n",
    "    marker = d['change_paras']\n",
    "    title = d['title']\n",
    "    \n",
    "#     marker = ['cand=30','cand=60','cand=90','cand=120']\n",
    "#     marker = ['k=10','k=20','k=30']\n",
    "#     marker = ['cand=40','cand=42','cand=44']\n",
    "\n",
    "\n",
    "    color = ['c','b','r','y','m','k']\n",
    "    Results = np.zeros((dataset_num, method_num, iter_per_set))\n",
    "    Stats = np.zeros((dataset_num, method_num, 2))#0 for mean, 1 for std\n",
    "\n",
    "    for i in range(0, dataset_num):\n",
    "        for j in range(0, iter_per_set):\n",
    "            with open(dir_name+ '/' + data_src + '_' +\n",
    "                      str(i) + '_' + str(j) + \".json\",'r') as f:\n",
    "                results = json.loads(f.read())\n",
    "                for m in range(0, method_num):\n",
    "                    Results[i,m,j] = results[m][0]\n",
    "                    \n",
    "    for i in range(0,dataset_num):\n",
    "        for m in range(0, method_num):\n",
    "            Stats[i,m,0] = np.mean(Results[i,m,:])\n",
    "            Stats[i,m,1] = np.std(Results[i,m,:])\n",
    "\n",
    "    print Stats[0,0,1]\n",
    "    ind = np.arange(dataset_num)\n",
    "    width = 0.2\n",
    "    p_list = []\n",
    "    for m in range(0, method_num):\n",
    "        if method_num % 2 != 0:\n",
    "            bias = np.floor(method_num/2)\n",
    "        else:\n",
    "            bias = (method_num - 1.0)/2\n",
    "        p = plt.bar(ind + width*(m-bias), Stats[:,m,0], width=width, color=color[m], yerr=Stats[:,m,1])\n",
    "        p_list.append(p)\n",
    "            \n",
    "    plt.xticks(ind, marker)\n",
    "    plt.ylim(500,650)\n",
    "    tup = tuple([p[0] for p in p_list])\n",
    "    plt.legend(tup,(\"Greedy\", \"Noisy\",\"Random\"))\n",
    "    plt.ylabel(\"Num of Covered Targets\")\n",
    "    plt.savefig(d['pic_name'])\n",
    "    plt.show()"
   ]
  },
  {
   "cell_type": "code",
   "execution_count": null,
   "metadata": {},
   "outputs": [],
   "source": [
    "from matplotlib import pyplot as plt\n",
    "def truncated_geo(p, N):\n",
    "    x = np.arange(1,N+1)\n",
    "    y = (1-p)**(x-1) * p\n",
    "    y = y / np.sum(y)\n",
    "    return y"
   ]
  },
  {
   "cell_type": "code",
   "execution_count": 131,
   "metadata": {},
   "outputs": [
    {
     "name": "stdout",
     "output_type": "stream",
     "text": [
      "3671.0\n",
      "950\n"
     ]
    },
    {
     "data": {
      "image/png": "[encoded data removed]",
      "text/plain": [
       "<Figure size 432x288 with 2 Axes>"
      ]
     },
     "metadata": {},
     "output_type": "display_data"
    }
   ],
   "source": [
    "# N = 3000\n",
    "# y = truncated_geo(0.1,N)\n",
    "# print(y)\n",
    "from matplotlib import rcParams\n",
    "y = xi\n",
    "cdf = np.cumsum(y) / np.sum(y)\n",
    "L = y.shape[0]\n",
    "rcParams['font.size'] = 12\n",
    "new_pdf = np.zeros(L)\n",
    "level = np.ceil((L-1)*cdf + 0.5) - 1\n",
    "print(np.max(level))\n",
    "for i,l in enumerate(level):\n",
    "    new_pdf[int(l)] += y[i]\n",
    "plt.subplot(121)\n",
    "plt.plot(new_pdf)\n",
    "plt.plot(y)\n",
    "plt.legend(['pdf_histeq','pdf_original'])\n",
    "plt.subplot(122)\n",
    "plt.plot(np.cumsum(new_pdf)/ np.sum(new_pdf))\n",
    "plt.plot(np.cumsum(y)/ np.sum(y))\n",
    "\n",
    "plt.legend(['cdf_histeq','cdf_original'])\n",
    "plt.savefig('histeq_demo.png')\n",
    "print(len(np.where(new_pdf!=0)[0]))"
   ]
  },
  {
   "cell_type": "code",
   "execution_count": 108,
   "metadata": {},
   "outputs": [
    {
     "data": {
      "text/plain": [
       "(array([  39,   72,  103,  131,  159,  186,  212,  238,  263,  288,  312,\n",
       "         333,  354,  375,  396,  417,  437,  456,  476,  495,  514,  532,\n",
       "         551,  570,  588,  606,  624,  642,  660,  677,  695,  712,  729,\n",
       "         745,  762,  778,  795,  811,  827,  843,  859,  875,  891,  906,\n",
       "         921,  936,  951,  966,  980,  995, 1009, 1023, 1037, 1051, 1065,\n",
       "        1078, 1092, 1106, 1119, 1132, 1145, 1158, 1172, 1185, 1197, 1210,\n",
       "        1223, 1235, 1248, 1260, 1272, 1284, 1296, 1308, 1320, 1332, 1343,\n",
       "        1355, 1366, 1378, 1389, 1400, 1411, 1422, 1433, 1443, 1454, 1464,\n",
       "        1475, 1485, 1496, 1506, 1516, 1527, 1537, 1547, 1557, 1567, 1577,\n",
       "        1587, 1596, 1606, 1616, 1625, 1635, 1644, 1653, 1663, 1672, 1682,\n",
       "        1691, 1700, 1709, 1718, 1727, 1736, 1745, 1754, 1763, 1771, 1780,\n",
       "        1789, 1797, 1806, 1814, 1823, 1831, 1839, 1848, 1856, 1864, 1872,\n",
       "        1881, 1889, 1897, 1904, 1912, 1920, 1928, 1935, 1943, 1950, 1958,\n",
       "        1965, 1972, 1979, 1986, 1993, 2000, 2007, 2014, 2021, 2029, 2036,\n",
       "        2043, 2049, 2056, 2063, 2070, 2077, 2084, 2091, 2097, 2104, 2111,\n",
       "        2117, 2124, 2131, 2137, 2144, 2150, 2157, 2163, 2170, 2176, 2182,\n",
       "        2189, 2195, 2201, 2207, 2214, 2220, 2226, 2232, 2238, 2244, 2250,\n",
       "        2256, 2262, 2268, 2273, 2279, 2285, 2291, 2297, 2302, 2308, 2314,\n",
       "        2319, 2325, 2330, 2336, 2341, 2347, 2353, 2358, 2364, 2369, 2375,\n",
       "        2380, 2385, 2391, 2396, 2401, 2407, 2412, 2417, 2422, 2428, 2433,\n",
       "        2438, 2443, 2448, 2453, 2458, 2463, 2468, 2473, 2478, 2483, 2488,\n",
       "        2493, 2498, 2503, 2508, 2512, 2517, 2522, 2527, 2531, 2536, 2541,\n",
       "        2545, 2550, 2554, 2559, 2564, 2568, 2573, 2577, 2581, 2586, 2590,\n",
       "        2594, 2599, 2603, 2607, 2611, 2615, 2619, 2623, 2627, 2631, 2635,\n",
       "        2639, 2642, 2646, 2650, 2654, 2657, 2661, 2665, 2669, 2672, 2676,\n",
       "        2679, 2683, 2687, 2690, 2694, 2697, 2701, 2704, 2708, 2712, 2715,\n",
       "        2718, 2722, 2725, 2729, 2732, 2736, 2739, 2742, 2746, 2749, 2752,\n",
       "        2756, 2759, 2762, 2765, 2769, 2772, 2775, 2778, 2781, 2785, 2788,\n",
       "        2791, 2794, 2797, 2800, 2803, 2806, 2809, 2812, 2816, 2819, 2822,\n",
       "        2825, 2828, 2831, 2834, 2837, 2840, 2842, 2845, 2848, 2851, 2854,\n",
       "        2857, 2860, 2862, 2865, 2868, 2871, 2874, 2876, 2879, 2882, 2885,\n",
       "        2887, 2890, 2893, 2896, 2898, 2901, 2903, 2906, 2909, 2911, 2914,\n",
       "        2916, 2919, 2921, 2924, 2926, 2929, 2931, 2934, 2936, 2939, 2941,\n",
       "        2944, 2946, 2948, 2951, 2953, 2956, 2958, 2960, 2963, 2965, 2967,\n",
       "        2970, 2972, 2974, 2977, 2979, 2981, 2983, 2986, 2988, 2990, 2992,\n",
       "        2994, 2996, 2999, 3001, 3003, 3005, 3007, 3009, 3011, 3014, 3016,\n",
       "        3018, 3020, 3022, 3024, 3026, 3028, 3030, 3032, 3034, 3036, 3038,\n",
       "        3040, 3042, 3044, 3046, 3048, 3050, 3052, 3053, 3055, 3057, 3059,\n",
       "        3061, 3063, 3065, 3067, 3069, 3071, 3072, 3074, 3076, 3078, 3080,\n",
       "        3082, 3084, 3086, 3087, 3089, 3091, 3093, 3094, 3096, 3098, 3100,\n",
       "        3102, 3103, 3105, 3107, 3109, 3111, 3112, 3114, 3116, 3118, 3119,\n",
       "        3121, 3123, 3124, 3126, 3128, 3129, 3131, 3133, 3134, 3136, 3138,\n",
       "        3139, 3141, 3143, 3144, 3146, 3148, 3149, 3151, 3153, 3154, 3156,\n",
       "        3158, 3159, 3161, 3162, 3164, 3165, 3167, 3169, 3170, 3172, 3173,\n",
       "        3175, 3176, 3178, 3179, 3181, 3182, 3184, 3186, 3187, 3189, 3190,\n",
       "        3192, 3193, 3195, 3196, 3197, 3199, 3200, 3202, 3203, 3205, 3206,\n",
       "        3207, 3209, 3210, 3212, 3213, 3215, 3216, 3217, 3219, 3220, 3221,\n",
       "        3223, 3224, 3225, 3226, 3228, 3229, 3230, 3232, 3233, 3234, 3236,\n",
       "        3237, 3238, 3240, 3241, 3242, 3243, 3245, 3246, 3247, 3249, 3250,\n",
       "        3251, 3253, 3254, 3255, 3256, 3257, 3259, 3260, 3261, 3262, 3263,\n",
       "        3265, 3266, 3267, 3268, 3269, 3270, 3272, 3273, 3274, 3275, 3276,\n",
       "        3278, 3279, 3280, 3281, 3282, 3284, 3285, 3286, 3287, 3288, 3290,\n",
       "        3291, 3292, 3293, 3294, 3295, 3297, 3298, 3299, 3300, 3301, 3302,\n",
       "        3303, 3304, 3305, 3306, 3307, 3308, 3309, 3311, 3312, 3313, 3314,\n",
       "        3315, 3316, 3317, 3318, 3319, 3320, 3321, 3322, 3323, 3324, 3326,\n",
       "        3327, 3328, 3329, 3330, 3331, 3332, 3333, 3334, 3335, 3336, 3337,\n",
       "        3338, 3339, 3340, 3341, 3342, 3343, 3344, 3345, 3346, 3347, 3348,\n",
       "        3349, 3350, 3351, 3352, 3353, 3354, 3355, 3356, 3357, 3358, 3359,\n",
       "        3360, 3361, 3362, 3363, 3364, 3365, 3366, 3367, 3368, 3369, 3370,\n",
       "        3371, 3372, 3373, 3374, 3375, 3376, 3377, 3378, 3379, 3380, 3381,\n",
       "        3382, 3383, 3384, 3385, 3386, 3387, 3388, 3389, 3390, 3391, 3392,\n",
       "        3393, 3394, 3395, 3396, 3397, 3398, 3399, 3400, 3401, 3402, 3403,\n",
       "        3404, 3405, 3406, 3407, 3408, 3409, 3410, 3411, 3412, 3413, 3414,\n",
       "        3415, 3416, 3417, 3418, 3419, 3420, 3421, 3422, 3423, 3424, 3425,\n",
       "        3426, 3427, 3428, 3429, 3430, 3431, 3432, 3433, 3434, 3435, 3436,\n",
       "        3437, 3438, 3439, 3440, 3441, 3442, 3443, 3444, 3445, 3446, 3447,\n",
       "        3448, 3449, 3450, 3451, 3452, 3453, 3454, 3455, 3456, 3457, 3458,\n",
       "        3459, 3460, 3461, 3462, 3463, 3464, 3465, 3466, 3467, 3468, 3469,\n",
       "        3470, 3471, 3472, 3473, 3474, 3475, 3476, 3477, 3478, 3479, 3480,\n",
       "        3481, 3482, 3483, 3484, 3485, 3486, 3487, 3488, 3489, 3490, 3491,\n",
       "        3492, 3493, 3494, 3495, 3496, 3497, 3498, 3499, 3500, 3501, 3502,\n",
       "        3503, 3504, 3505, 3506, 3507, 3508, 3509, 3510, 3511, 3512, 3513,\n",
       "        3514, 3515, 3516, 3517, 3518, 3519, 3520, 3521, 3522, 3523, 3524,\n",
       "        3525, 3526, 3527, 3528, 3529, 3530, 3531, 3532, 3533, 3534, 3535,\n",
       "        3536, 3537, 3538, 3539, 3540, 3541, 3542, 3543, 3544, 3545, 3546,\n",
       "        3547, 3548, 3549, 3550, 3551, 3552, 3553, 3554, 3555, 3556, 3557,\n",
       "        3558, 3559, 3560, 3561, 3562, 3563, 3564, 3565, 3566, 3567, 3568,\n",
       "        3569, 3570, 3571, 3572, 3573, 3574, 3575, 3576, 3577, 3578, 3579,\n",
       "        3580, 3581, 3582, 3583, 3584, 3585, 3586, 3587, 3588, 3589, 3590,\n",
       "        3591, 3592, 3593, 3594, 3595, 3596, 3597, 3598, 3599, 3600, 3601,\n",
       "        3602, 3603, 3604, 3605, 3606, 3607, 3608, 3609, 3610, 3611, 3612,\n",
       "        3613, 3614, 3615, 3616, 3617, 3618, 3619, 3620, 3621, 3622, 3623,\n",
       "        3624, 3625, 3626, 3627, 3628, 3629, 3630, 3631, 3632, 3633, 3634,\n",
       "        3635, 3636, 3637, 3638, 3639, 3640, 3641, 3642, 3643, 3644, 3645,\n",
       "        3646, 3647, 3648, 3649, 3650, 3651, 3652, 3653, 3654, 3655, 3656,\n",
       "        3657, 3658, 3659, 3660, 3661, 3662, 3663, 3664, 3665, 3666, 3667,\n",
       "        3668, 3669, 3670, 3671]),)"
      ]
     },
     "execution_count": 108,
     "metadata": {},
     "output_type": "execute_result"
    }
   ],
   "source": [
    "np.where(new_pdf!=0)"
   ]
  },
  {
   "cell_type": "code",
   "execution_count": 68,
   "metadata": {},
   "outputs": [
    {
     "data": {
      "text/plain": [
       "(0.0013616557734204794, 0.05312601230968578, 0.0)"
      ]
     },
     "execution_count": 68,
     "metadata": {},
     "output_type": "execute_result"
    }
   ],
   "source": [
    "np.mean(xi), np.max(xi), np.min(xi)"
   ]
  },
  {
   "cell_type": "code",
   "execution_count": 1,
   "metadata": {},
   "outputs": [
    {
     "data": {
      "text/plain": [
       "u'/home/HenryHuang/DataMining/DP/Differential_Privacy_Coverage/code'"
      ]
     },
     "execution_count": 1,
     "metadata": {},
     "output_type": "execute_result"
    }
   ],
   "source": [
    "pwd"
   ]
  },
  {
   "cell_type": "code",
   "execution_count": 3,
   "metadata": {},
   "outputs": [
    {
     "name": "stdout",
     "output_type": "stream",
     "text": [
      "total 2344\r\n",
      "-rw-rw-r-- 1 HenryHuang HenryHuang   23675 Sep 11 03:00 diff_coverage.py\r\n",
      "-rw-rw-r-- 1 HenryHuang HenryHuang 1150630 Sep 11 03:00 optim_coverage.html\r\n",
      "-rw-rw-r-- 1 HenryHuang HenryHuang   21953 Sep 11 08:43 optim_coverage.py\r\n",
      "-rw-rw-r-- 1 HenryHuang HenryHuang   17547 Sep 11 08:43 optim_coverage.pyc\r\n",
      "-rw-rw-r-- 1 HenryHuang HenryHuang  794480 Sep 11 03:00 read_data.html\r\n",
      "-rw-rw-r-- 1 HenryHuang HenryHuang    9321 Sep 11 08:43 read_data.py\r\n",
      "-rw-rw-r-- 1 HenryHuang HenryHuang   10456 Sep 11 08:43 read_data.pyc\r\n",
      "-rw-rw-r-- 1 HenryHuang HenryHuang   56775 Sep 11 03:00 \u001b[0m\u001b[01;35mresult_0.jpg\u001b[0m\r\n",
      "-rw-rw-r-- 1 HenryHuang HenryHuang   51352 Sep 11 03:00 \u001b[01;35mresult_1000.jpg\u001b[0m\r\n",
      "-rw-rw-r-- 1 HenryHuang HenryHuang   50279 Sep 11 03:00 \u001b[01;35mresult_1400.jpg\u001b[0m\r\n",
      "-rw-rw-r-- 1 HenryHuang HenryHuang   49913 Sep 11 03:00 \u001b[01;35mresult_1800.jpg\u001b[0m\r\n",
      "-rw-rw-r-- 1 HenryHuang HenryHuang   53159 Sep 11 03:00 \u001b[01;35mresult_600.jpg\u001b[0m\r\n",
      "-rw-rw-r-- 1 HenryHuang HenryHuang    3296 Sep 11 08:54 simulate.py\r\n",
      "-rw-rw-r-- 1 HenryHuang HenryHuang   37514 Sep 11 03:00 Test Notebook.ipynb\r\n",
      "-rw-rw-r-- 1 HenryHuang HenryHuang     979 Sep 11 03:00 test.py\r\n",
      "-rw-rw-r-- 1 HenryHuang HenryHuang    5140 Sep 11 03:00 util.py\r\n",
      "-rw-rw-r-- 1 HenryHuang HenryHuang   29504 Sep 11 03:00 xi.npy\r\n"
     ]
    }
   ],
   "source": [
    "ls -l"
   ]
  },
  {
   "cell_type": "code",
   "execution_count": null,
   "metadata": {},
   "outputs": [],
   "source": []
  }
 ],
 "metadata": {
  "kernelspec": {
   "display_name": "Python 2",
   "language": "python",
   "name": "python2"
  },
  "language_info": {
   "codemirror_mode": {
    "name": "ipython",
    "version": 2
   },
   "file_extension": ".py",
   "mimetype": "text/x-python",
   "name": "python",
   "nbconvert_exporter": "python",
   "pygments_lexer": "ipython2",
   "version": "2.7.15"
  }
 },
 "nbformat": 4,
 "nbformat_minor": 2
}
